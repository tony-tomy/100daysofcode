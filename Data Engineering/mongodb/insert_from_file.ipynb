{
 "cells": [
  {
   "cell_type": "code",
   "execution_count": 1,
   "source": [
    "import pymongo"
   ],
   "outputs": [],
   "metadata": {}
  },
  {
   "cell_type": "code",
   "execution_count": 4,
   "source": [
    "client = pymongo.MongoClient('localhost',27017)"
   ],
   "outputs": [],
   "metadata": {}
  },
  {
   "cell_type": "code",
   "execution_count": 5,
   "source": [
    "db = client['chapter3']"
   ],
   "outputs": [],
   "metadata": {}
  },
  {
   "cell_type": "code",
   "execution_count": 6,
   "source": [
    "collection = db['income']"
   ],
   "outputs": [],
   "metadata": {}
  },
  {
   "cell_type": "code",
   "execution_count": 7,
   "source": [
    "with open('income_header.txt') as f_in:\r\n",
    "    columns_heading = f_in.readline()"
   ],
   "outputs": [],
   "metadata": {}
  },
  {
   "cell_type": "code",
   "execution_count": 8,
   "source": [
    "columns_heading"
   ],
   "outputs": [
    {
     "output_type": "execute_result",
     "data": {
      "text/plain": [
       "'age,workclass,fnlwgt,education,education-num,marital-status,occupation,relationship,race,sex,capital-gain,capital-loss,hours-per-week,native-country,label'"
      ]
     },
     "metadata": {},
     "execution_count": 8
    }
   ],
   "metadata": {}
  },
  {
   "cell_type": "code",
   "execution_count": 9,
   "source": [
    "columns_heading_list = columns_heading.split(',')"
   ],
   "outputs": [],
   "metadata": {}
  },
  {
   "cell_type": "code",
   "execution_count": 10,
   "source": [
    "columns_heading_list"
   ],
   "outputs": [
    {
     "output_type": "execute_result",
     "data": {
      "text/plain": [
       "['age',\n",
       " 'workclass',\n",
       " 'fnlwgt',\n",
       " 'education',\n",
       " 'education-num',\n",
       " 'marital-status',\n",
       " 'occupation',\n",
       " 'relationship',\n",
       " 'race',\n",
       " 'sex',\n",
       " 'capital-gain',\n",
       " 'capital-loss',\n",
       " 'hours-per-week',\n",
       " 'native-country',\n",
       " 'label']"
      ]
     },
     "metadata": {},
     "execution_count": 10
    }
   ],
   "metadata": {}
  },
  {
   "cell_type": "code",
   "execution_count": 11,
   "source": [
    "row_dict_list = list()\r\n",
    "with open('income.txt') as f_in:\r\n",
    "    for line in f_in:\r\n",
    "        row_list = line.rstrip('\\n').split(',')\r\n",
    "        row_dict = dict(zip(columns_heading_list,row_list))\r\n",
    "        row_dict_list.append(row_dict)\r\n",
    "        collection.insert_one(row_dict)"
   ],
   "outputs": [],
   "metadata": {}
  },
  {
   "cell_type": "code",
   "execution_count": 12,
   "source": [
    "collection.count()"
   ],
   "outputs": [
    {
     "output_type": "stream",
     "name": "stderr",
     "text": [
      "<ipython-input-12-7c4bc5758cb0>:1: DeprecationWarning: count is deprecated. Use estimated_document_count or count_documents instead. Please note that $where must be replaced by $expr, $near must be replaced by $geoWithin with $center, and $nearSphere must be replaced by $geoWithin with $centerSphere\n",
      "  collection.count()\n"
     ]
    },
    {
     "output_type": "execute_result",
     "data": {
      "text/plain": [
       "32562"
      ]
     },
     "metadata": {},
     "execution_count": 12
    }
   ],
   "metadata": {}
  },
  {
   "cell_type": "code",
   "execution_count": 13,
   "source": [
    "row_dict_list[0]"
   ],
   "outputs": [
    {
     "output_type": "execute_result",
     "data": {
      "text/plain": [
       "{'age': '39',\n",
       " 'workclass': ' State-gov',\n",
       " 'fnlwgt': ' 77516',\n",
       " 'education': ' Bachelors',\n",
       " 'education-num': ' 13',\n",
       " 'marital-status': ' Never-married',\n",
       " 'occupation': ' Adm-clerical',\n",
       " 'relationship': ' Not-in-family',\n",
       " 'race': ' White',\n",
       " 'sex': ' Male',\n",
       " 'capital-gain': ' 2174',\n",
       " 'capital-loss': ' 0',\n",
       " 'hours-per-week': ' 40',\n",
       " 'native-country': ' United-States',\n",
       " 'label': ' <=50K',\n",
       " '_id': ObjectId('60ff9c463a4f5413c451d2ec')}"
      ]
     },
     "metadata": {},
     "execution_count": 13
    }
   ],
   "metadata": {}
  },
  {
   "cell_type": "code",
   "execution_count": 14,
   "source": [
    "collection.find_one({})"
   ],
   "outputs": [
    {
     "output_type": "execute_result",
     "data": {
      "text/plain": [
       "{'_id': ObjectId('60ff9c463a4f5413c451d2ec'),\n",
       " 'age': '39',\n",
       " 'workclass': ' State-gov',\n",
       " 'fnlwgt': ' 77516',\n",
       " 'education': ' Bachelors',\n",
       " 'education-num': ' 13',\n",
       " 'marital-status': ' Never-married',\n",
       " 'occupation': ' Adm-clerical',\n",
       " 'relationship': ' Not-in-family',\n",
       " 'race': ' White',\n",
       " 'sex': ' Male',\n",
       " 'capital-gain': ' 2174',\n",
       " 'capital-loss': ' 0',\n",
       " 'hours-per-week': ' 40',\n",
       " 'native-country': ' United-States',\n",
       " 'label': ' <=50K'}"
      ]
     },
     "metadata": {},
     "execution_count": 14
    }
   ],
   "metadata": {}
  },
  {
   "cell_type": "code",
   "execution_count": 15,
   "source": [
    "collection.delete_many({})"
   ],
   "outputs": [
    {
     "output_type": "execute_result",
     "data": {
      "text/plain": [
       "<pymongo.results.DeleteResult at 0x9cfe0c8>"
      ]
     },
     "metadata": {},
     "execution_count": 15
    }
   ],
   "metadata": {}
  },
  {
   "cell_type": "code",
   "execution_count": 16,
   "source": [
    "# Data Clensing example\r\n",
    "with open('income.txt') as f_in:\r\n",
    "    for line in f_in:\r\n",
    "        row_list = line.rstrip('\\n').split(',')\r\n",
    "        row_dict = dict(zip(columns_heading_list,row_list))\r\n",
    "        try:\r\n",
    "            row_dict['age'] = int(row_dict['age'])\r\n",
    "            collection.insert_one(row_dict)\r\n",
    "        except:\r\n",
    "            pass"
   ],
   "outputs": [],
   "metadata": {}
  },
  {
   "cell_type": "code",
   "execution_count": 17,
   "source": [
    "over_35 = collection.find({'age': {\"$gt\" :35}})"
   ],
   "outputs": [],
   "metadata": {}
  },
  {
   "cell_type": "code",
   "execution_count": 18,
   "source": [
    "type(over_35)"
   ],
   "outputs": [
    {
     "output_type": "execute_result",
     "data": {
      "text/plain": [
       "pymongo.cursor.Cursor"
      ]
     },
     "metadata": {},
     "execution_count": 18
    }
   ],
   "metadata": {}
  },
  {
   "cell_type": "code",
   "execution_count": 19,
   "source": [
    "over_35.next()"
   ],
   "outputs": [
    {
     "output_type": "execute_result",
     "data": {
      "text/plain": [
       "{'_id': ObjectId('60ff9e023a4f5413c452521e'),\n",
       " 'age': 39,\n",
       " 'workclass': ' State-gov',\n",
       " 'fnlwgt': ' 77516',\n",
       " 'education': ' Bachelors',\n",
       " 'education-num': ' 13',\n",
       " 'marital-status': ' Never-married',\n",
       " 'occupation': ' Adm-clerical',\n",
       " 'relationship': ' Not-in-family',\n",
       " 'race': ' White',\n",
       " 'sex': ' Male',\n",
       " 'capital-gain': ' 2174',\n",
       " 'capital-loss': ' 0',\n",
       " 'hours-per-week': ' 40',\n",
       " 'native-country': ' United-States',\n",
       " 'label': ' <=50K'}"
      ]
     },
     "metadata": {},
     "execution_count": 19
    }
   ],
   "metadata": {}
  },
  {
   "cell_type": "code",
   "execution_count": 20,
   "source": [
    "over_35.count()"
   ],
   "outputs": [
    {
     "output_type": "stream",
     "name": "stderr",
     "text": [
      "<ipython-input-20-6e46c659321d>:1: DeprecationWarning: count is deprecated. Use Collection.count_documents instead.\n",
      "  over_35.count()\n"
     ]
    },
    {
     "output_type": "execute_result",
     "data": {
      "text/plain": [
       "17636"
      ]
     },
     "metadata": {},
     "execution_count": 20
    }
   ],
   "metadata": {}
  },
  {
   "cell_type": "code",
   "execution_count": 21,
   "source": [
    "import time"
   ],
   "outputs": [],
   "metadata": {}
  },
  {
   "cell_type": "code",
   "execution_count": 22,
   "source": [
    "start = time.time()\r\n",
    "age_50 = collection.find({'age': {\"$eq\":50}})\r\n",
    "end = time.time()\r\n",
    "print(end-start)"
   ],
   "outputs": [
    {
     "output_type": "stream",
     "name": "stdout",
     "text": [
      "0.0009860992431640625\n"
     ]
    }
   ],
   "metadata": {}
  },
  {
   "cell_type": "code",
   "execution_count": 23,
   "source": [
    "# Indexing Example\r\n",
    "index_result = db.profiles.create_index([('age', pymongo.ASCENDING)], unique = False)"
   ],
   "outputs": [],
   "metadata": {}
  },
  {
   "cell_type": "code",
   "execution_count": 24,
   "source": [
    "start = time.time()\r\n",
    "age_45 = collection.find({'age': {\"$eq\":45}})\r\n",
    "end = time.time()\r\n",
    "print(end-start)"
   ],
   "outputs": [
    {
     "output_type": "stream",
     "name": "stdout",
     "text": [
      "0.0\n"
     ]
    }
   ],
   "metadata": {}
  },
  {
   "cell_type": "code",
   "execution_count": 25,
   "source": [
    "age_45.count()"
   ],
   "outputs": [
    {
     "output_type": "stream",
     "name": "stderr",
     "text": [
      "<ipython-input-25-1c3fdfaf91cc>:1: DeprecationWarning: count is deprecated. Use Collection.count_documents instead.\n",
      "  age_45.count()\n"
     ]
    },
    {
     "output_type": "execute_result",
     "data": {
      "text/plain": [
       "734"
      ]
     },
     "metadata": {},
     "execution_count": 25
    }
   ],
   "metadata": {}
  }
 ],
 "metadata": {
  "orig_nbformat": 4,
  "language_info": {
   "name": "python",
   "version": "3.8.5",
   "mimetype": "text/x-python",
   "codemirror_mode": {
    "name": "ipython",
    "version": 3
   },
   "pygments_lexer": "ipython3",
   "nbconvert_exporter": "python",
   "file_extension": ".py"
  },
  "kernelspec": {
   "name": "python3",
   "display_name": "Python 3.8.5 32-bit"
  },
  "interpreter": {
   "hash": "ae9f713ddefaeb53be7fed8e8c21f4be25ca883a44e9afd38d7e1513fec409b0"
  }
 },
 "nbformat": 4,
 "nbformat_minor": 2
}