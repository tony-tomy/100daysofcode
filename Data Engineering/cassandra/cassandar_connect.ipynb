{
 "cells": [
  {
   "cell_type": "code",
   "execution_count": null,
   "source": [
    "from cassandra.cluster import Cluster\r\n"
   ],
   "outputs": [],
   "metadata": {}
  },
  {
   "cell_type": "code",
   "execution_count": null,
   "source": [
    "Cluster = Cluster(['localhost'])"
   ],
   "outputs": [],
   "metadata": {}
  },
  {
   "cell_type": "code",
   "execution_count": null,
   "source": [
    "session = Cluster.connect()"
   ],
   "outputs": [],
   "metadata": {}
  },
  {
   "cell_type": "code",
   "execution_count": null,
   "source": [
    "session.execute(\"CREATE KEYSPACE stocks \\\r\n",
    "                    WITH replication = {'class' : 'SimpleStrategy', \\\r\n",
    "                                        'replication_factor' : '1'} \")"
   ],
   "outputs": [],
   "metadata": {}
  },
  {
   "cell_type": "code",
   "execution_count": null,
   "source": [
    "session.set_keyspace('stocks')"
   ],
   "outputs": [],
   "metadata": {}
  },
  {
   "cell_type": "code",
   "execution_count": null,
   "source": [
    "session.execute(\"\"\"\r\n",
    "                    CREATE TABLE company (\r\n",
    "                        company_id text,\r\n",
    "                        name_latest text,\r\n",
    "                        name_previous text,\r\n",
    "                        PRIMARY KEY (company_id)\r\n",
    "                    )\r\n",
    "                \"\"\")"
   ],
   "outputs": [],
   "metadata": {}
  },
  {
   "cell_type": "code",
   "execution_count": null,
   "source": [
    "session.execute(\"\"\"\r\n",
    "                    CREATE TABLE indicator_by_company (\r\n",
    "                        company_id text,\r\n",
    "                        indicator_id text,\r\n",
    "                        year_2010 bigint,\r\n",
    "                        year_2011 bigint,\r\n",
    "                        year_2012 bigint,\r\n",
    "                        year_2013 bigint,\r\n",
    "                        year_2014 bigint,\r\n",
    "                        year_2015 bigint,\r\n",
    "                        year_2016 bigint,\r\n",
    "                        PRIMARY KEY (company_id, indicator_id)\r\n",
    "                    )\r\n",
    "                \"\"\")"
   ],
   "outputs": [],
   "metadata": {}
  },
  {
   "cell_type": "markdown",
   "source": [
    "Loading Data from Json File"
   ],
   "metadata": {}
  },
  {
   "cell_type": "code",
   "execution_count": null,
   "source": [
    "import json"
   ],
   "outputs": [],
   "metadata": {}
  },
  {
   "cell_type": "code",
   "execution_count": null,
   "source": [
    "with open('companies.json') as f_in:\r\n",
    "    companies = json.load(f_in)"
   ],
   "outputs": [],
   "metadata": {}
  },
  {
   "cell_type": "code",
   "execution_count": null,
   "source": [
    "session.execute(\"\"\"\r\n",
    "                INSERT INTO company (company_id, name_latest, name_previous)\r\n",
    "                VALUES (%s, %s, %s)\r\n",
    "                \"\"\",\r\n",
    "                (\"12345\", \"Nicholas Finance Inc\", \"\"))"
   ],
   "outputs": [],
   "metadata": {}
  },
  {
   "cell_type": "code",
   "execution_count": null,
   "source": [
    "result_set = session.execute(\"SELECT * FROM company\")"
   ],
   "outputs": [],
   "metadata": {}
  },
  {
   "cell_type": "code",
   "execution_count": null,
   "source": [
    "for company in companies:\r\n",
    "    try:\r\n",
    "        session.execute(\"\"\"\r\n",
    "                INSERT INTO company (company_id, name_latest, name_previous)\r\n",
    "                VALUES (%s, %s, %s)\r\n",
    "                \"\"\",\r\n",
    "                (company['company_id'], company['name_latest'], company['name_previous']))\r\n",
    "    except:\r\n",
    "        pass\r\n",
    "        "
   ],
   "outputs": [],
   "metadata": {}
  },
  {
   "cell_type": "code",
   "execution_count": null,
   "source": [
    "result_set = session.execute(\"SELECT * FROM company\")"
   ],
   "outputs": [],
   "metadata": {}
  },
  {
   "cell_type": "code",
   "execution_count": null,
   "source": [
    "result_set.current_rows"
   ],
   "outputs": [],
   "metadata": {}
  }
 ],
 "metadata": {
  "orig_nbformat": 4,
  "language_info": {
   "name": "python"
  }
 },
 "nbformat": 4,
 "nbformat_minor": 2
}