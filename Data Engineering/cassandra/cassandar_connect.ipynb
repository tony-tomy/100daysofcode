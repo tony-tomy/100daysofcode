{
 "cells": [
  {
   "cell_type": "code",
   "execution_count": null,
   "source": [
    "from cassandra.cluster import Cluster\r\n"
   ],
   "outputs": [],
   "metadata": {}
  },
  {
   "cell_type": "code",
   "execution_count": null,
   "source": [
    "Cluster = Cluster(['localhost'])"
   ],
   "outputs": [],
   "metadata": {}
  },
  {
   "cell_type": "code",
   "execution_count": null,
   "source": [
    "session = Cluster.connect()"
   ],
   "outputs": [],
   "metadata": {}
  },
  {
   "cell_type": "code",
   "execution_count": null,
   "source": [
    "session.execute(\"CREATE KEYSPACE stocks \\\r\n",
    "                    WITH replication = {'class' : 'SimpleStrategy', \\\r\n",
    "                                        'replication_factor' : '1'} \")"
   ],
   "outputs": [],
   "metadata": {}
  },
  {
   "cell_type": "code",
   "execution_count": null,
   "source": [
    "session.set_keyspace('stocks')"
   ],
   "outputs": [],
   "metadata": {}
  },
  {
   "cell_type": "code",
   "execution_count": null,
   "source": [
    "session.execute(\"\"\"\r\n",
    "                    CREATE TABLE company (\r\n",
    "                        company_id text,\r\n",
    "                        name_latest text,\r\n",
    "                        name_previous text,\r\n",
    "                        PRIMARY KEY (company_id)\r\n",
    "                    )\r\n",
    "                \"\"\")"
   ],
   "outputs": [],
   "metadata": {}
  },
  {
   "cell_type": "code",
   "execution_count": null,
   "source": [
    "session.execute(\"\"\"\r\n",
    "                    CREATE TABLE indicator_by_company (\r\n",
    "                        company_id text,\r\n",
    "                        indicator_id text,\r\n",
    "                        year_2010 bigint,\r\n",
    "                        year_2011 bigint,\r\n",
    "                        year_2012 bigint,\r\n",
    "                        year_2013 bigint,\r\n",
    "                        year_2014 bigint,\r\n",
    "                        year_2015 bigint,\r\n",
    "                        year_2016 bigint,\r\n",
    "                        PRIMARY KEY (company_id, indicator_id)\r\n",
    "                    )\r\n",
    "                \"\"\")"
   ],
   "outputs": [],
   "metadata": {}
  }
 ],
 "metadata": {
  "orig_nbformat": 4,
  "language_info": {
   "name": "python"
  }
 },
 "nbformat": 4,
 "nbformat_minor": 2
}