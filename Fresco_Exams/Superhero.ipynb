{
 "cells": [
  {
   "cell_type": "markdown",
   "metadata": {},
   "source": [
    "# Favorite SuperHero\n",
    "\n",
    "## Marvel surveyed 100 students to find which superhero they like the most.The survey details can be found from data.csv file and answer the following question by considering a student is chosen as random.\n",
    "## Note : Don't add cells or alter the order the cells in this order.For the probabity questions just type the answer in the cell with 2 floating point precesion.(ex:0.09) and ctrl+shift to output.Open roughwork.ipynb for rough calculation"
   ]
  },
  {
   "cell_type": "markdown",
   "metadata": {},
   "source": [
    "## 1.Read the Two way table which contain the survey response into a pandas dataFrame from data.csv file"
   ]
  },
  {
   "cell_type": "code",
   "execution_count": 9,
   "metadata": {},
   "outputs": [],
   "source": [
    "import pandas as pd\n",
    "df = pd.read_csv('data.csv', delimiter = ',')"
   ]
  },
  {
   "cell_type": "markdown",
   "metadata": {},
   "source": [
    "## 2.Display the loaded pandas dataFrame"
   ]
  },
  {
   "cell_type": "code",
   "execution_count": 10,
   "metadata": {},
   "outputs": [
    {
     "output_type": "execute_result",
     "data": {
      "text/plain": [
       "       SuperHero  Male  Female  TOTAL\n",
       "0           Thor    26      12     38\n",
       "1  CaptainMarvel    12      32     44\n",
       "2          Other    10       8     18\n",
       "3          TOTAL    48      52    100"
      ],
      "text/html": "<div>\n<style scoped>\n    .dataframe tbody tr th:only-of-type {\n        vertical-align: middle;\n    }\n\n    .dataframe tbody tr th {\n        vertical-align: top;\n    }\n\n    .dataframe thead th {\n        text-align: right;\n    }\n</style>\n<table border=\"1\" class=\"dataframe\">\n  <thead>\n    <tr style=\"text-align: right;\">\n      <th></th>\n      <th>SuperHero</th>\n      <th>Male</th>\n      <th>Female</th>\n      <th>TOTAL</th>\n    </tr>\n  </thead>\n  <tbody>\n    <tr>\n      <th>0</th>\n      <td>Thor</td>\n      <td>26</td>\n      <td>12</td>\n      <td>38</td>\n    </tr>\n    <tr>\n      <th>1</th>\n      <td>CaptainMarvel</td>\n      <td>12</td>\n      <td>32</td>\n      <td>44</td>\n    </tr>\n    <tr>\n      <th>2</th>\n      <td>Other</td>\n      <td>10</td>\n      <td>8</td>\n      <td>18</td>\n    </tr>\n    <tr>\n      <th>3</th>\n      <td>TOTAL</td>\n      <td>48</td>\n      <td>52</td>\n      <td>100</td>\n    </tr>\n  </tbody>\n</table>\n</div>"
     },
     "metadata": {},
     "execution_count": 10
    }
   ],
   "source": [
    "df"
   ]
  },
  {
   "cell_type": "markdown",
   "metadata": {},
   "source": [
    "## 3.Find the probability that the student chose Thor as Favorite superhero?ie p(Thor)"
   ]
  },
  {
   "cell_type": "code",
   "execution_count": 21,
   "metadata": {},
   "outputs": [
    {
     "output_type": "execute_result",
     "data": {
      "text/plain": [
       "0.38"
      ]
     },
     "metadata": {},
     "execution_count": 21
    }
   ],
   "source": [
    "student_chose_thor = df[df['SuperHero'] == 'Thor']['TOTAL'].sum()\n",
    "total_students = df[df['SuperHero'] == 'TOTAL']['TOTAL'].sum()\n",
    "student_chose_thor/total_students"
   ]
  },
  {
   "cell_type": "markdown",
   "metadata": {},
   "source": [
    "## 4.find the probability that the student chosen is male? P(male)"
   ]
  },
  {
   "cell_type": "code",
   "execution_count": 22,
   "metadata": {},
   "outputs": [
    {
     "output_type": "execute_result",
     "data": {
      "text/plain": [
       "0.48"
      ]
     },
     "metadata": {},
     "execution_count": 22
    }
   ],
   "source": [
    "male_student = df[df['SuperHero'] == 'TOTAL']['Male'].sum()\n",
    "male_student/total_students"
   ]
  },
  {
   "cell_type": "markdown",
   "metadata": {},
   "source": [
    "## 5. find the probability that the student was male given the student chose Thor as their superhero?"
   ]
  },
  {
   "cell_type": "code",
   "execution_count": 28,
   "metadata": {},
   "outputs": [
    {
     "output_type": "execute_result",
     "data": {
      "text/plain": [
       "0.6842105263157895"
      ]
     },
     "metadata": {},
     "execution_count": 28
    }
   ],
   "source": [
    "male_student_chose_thor = df[df['SuperHero'] == 'Thor']['Male'].sum()\n",
    "male_student_chose_thor/student_chose_thor"
   ]
  },
  {
   "cell_type": "markdown",
   "metadata": {},
   "source": [
    "## 6.find the probability that the student chose Thor as their superhero given the student was male?"
   ]
  },
  {
   "cell_type": "code",
   "execution_count": 29,
   "metadata": {},
   "outputs": [
    {
     "output_type": "execute_result",
     "data": {
      "text/plain": [
       "0.7916666666666666"
      ]
     },
     "metadata": {},
     "execution_count": 29
    }
   ],
   "source": [
    "student_chose_thor/male_student"
   ]
  }
 ],
 "metadata": {
  "kernelspec": {
   "display_name": "Python 3",
   "language": "python",
   "name": "python3"
  },
  "language_info": {
   "codemirror_mode": {
    "name": "ipython",
    "version": 3
   },
   "file_extension": ".py",
   "mimetype": "text/x-python",
   "name": "python",
   "nbconvert_exporter": "python",
   "pygments_lexer": "ipython3",
   "version": "3.8.5-final"
  }
 },
 "nbformat": 4,
 "nbformat_minor": 2
}